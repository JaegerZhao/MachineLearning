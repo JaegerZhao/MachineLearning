{
 "cells": [
  {
   "cell_type": "markdown",
   "metadata": {},
   "source": [
    "# 实验六: 基于集成学习的 Amazon 用户评论质量预测"
   ]
  },
  {
   "cell_type": "markdown",
   "metadata": {},
   "source": [
    "## 1 案例简介\n",
    "\n",
    "随着电商平台的兴起，以及疫情的持续影响，线上购物在我们的日常生活中扮演着越来越重要的角色。在进行线上商品挑选时，评论往往是我们十分关注的一个方面。然而目前电商网站的评论质量参差不齐，甚至有水军刷好评或者恶意差评的情况出现，严重影响了顾客的购物体验。因此，对于评论质量的预测成为电商平台越来越关注的话题，如果能自动对评论质量进行评估，就能根据预测结果避免展现低质量的评论。本案例中我们将基于集成学习的方法对 Amazon 现实场景中的评论质量进行预测。\n",
    "\n",
    "## 2 作业说明\n",
    "\n",
    "本案例中需要大家完成两种集成学习算法的实现（Bagging、AdaBoost.M1），其中基分类器要求使用 SVM 和决策树两种，因此，一共需要对比四组结果（[AUC](https://scikit-learn.org/stable/modules/model_evaluation.html#roc-metrics) 作为评价指标）：\n",
    "\n",
    "* Bagging + SVM\n",
    "* Bagging + 决策树\n",
    "* AdaBoost.M1 + SVM\n",
    "* AdaBoost.M1 + 决策树\n",
    "\n",
    "注意集成学习的核心算法需要**手动进行实现**，基分类器可以调库。\n",
    "\n",
    "### 2.1 基本要求\n",
    "* 根据数据格式设计特征的表示\n",
    "* 汇报不同组合下得到的 AUC\n",
    "* 结合不同集成学习算法的特点分析结果之间的差异\n",
    "* （使用 sklearn 等第三方库的集成学习算法会酌情扣分）\n",
    "\n",
    "### 2.2 扩展要求\n",
    "* 尝试其他基分类器（如 k-NN、朴素贝叶斯）\n",
    "* 分析不同特征的影响\n",
    "* 分析集成学习算法参数的影响"
   ]
  },
  {
   "cell_type": "markdown",
   "metadata": {},
   "source": [
    "## 3 数据概览"
   ]
  },
  {
   "cell_type": "code",
   "execution_count": 1,
   "metadata": {},
   "outputs": [],
   "source": [
    "import pandas as pd \n",
    "train_df = pd.read_csv('./data/train.csv', sep='\\t')\n",
    "test_df = pd.read_csv('./data/test.csv', sep='\\t')\n",
    "testlabels_df = pd.read_csv('./data/groundTruth.csv')"
   ]
  },
  {
   "cell_type": "code",
   "execution_count": 2,
   "metadata": {},
   "outputs": [
    {
     "data": {
      "text/html": [
       "<div>\n",
       "<style scoped>\n",
       "    .dataframe tbody tr th:only-of-type {\n",
       "        vertical-align: middle;\n",
       "    }\n",
       "\n",
       "    .dataframe tbody tr th {\n",
       "        vertical-align: top;\n",
       "    }\n",
       "\n",
       "    .dataframe thead th {\n",
       "        text-align: right;\n",
       "    }\n",
       "</style>\n",
       "<table border=\"1\" class=\"dataframe\">\n",
       "  <thead>\n",
       "    <tr style=\"text-align: right;\">\n",
       "      <th></th>\n",
       "      <th>reviewerID</th>\n",
       "      <th>asin</th>\n",
       "      <th>reviewText</th>\n",
       "      <th>overall</th>\n",
       "      <th>votes_up</th>\n",
       "      <th>votes_all</th>\n",
       "      <th>label</th>\n",
       "    </tr>\n",
       "  </thead>\n",
       "  <tbody>\n",
       "    <tr>\n",
       "      <th>0</th>\n",
       "      <td>7885</td>\n",
       "      <td>3901</td>\n",
       "      <td>First off, allow me to correct a common mistak...</td>\n",
       "      <td>5.0</td>\n",
       "      <td>6</td>\n",
       "      <td>7</td>\n",
       "      <td>0</td>\n",
       "    </tr>\n",
       "    <tr>\n",
       "      <th>1</th>\n",
       "      <td>52087</td>\n",
       "      <td>47978</td>\n",
       "      <td>I am really troubled by this Story and Enterta...</td>\n",
       "      <td>3.0</td>\n",
       "      <td>99</td>\n",
       "      <td>134</td>\n",
       "      <td>0</td>\n",
       "    </tr>\n",
       "    <tr>\n",
       "      <th>2</th>\n",
       "      <td>5701</td>\n",
       "      <td>3667</td>\n",
       "      <td>A near-perfect film version of a downright glo...</td>\n",
       "      <td>4.0</td>\n",
       "      <td>14</td>\n",
       "      <td>14</td>\n",
       "      <td>1</td>\n",
       "    </tr>\n",
       "    <tr>\n",
       "      <th>3</th>\n",
       "      <td>47191</td>\n",
       "      <td>40892</td>\n",
       "      <td>Keep your expectations low.  Really really low...</td>\n",
       "      <td>1.0</td>\n",
       "      <td>4</td>\n",
       "      <td>7</td>\n",
       "      <td>0</td>\n",
       "    </tr>\n",
       "    <tr>\n",
       "      <th>4</th>\n",
       "      <td>40957</td>\n",
       "      <td>15367</td>\n",
       "      <td>\"they dont make em like this no more...\"well.....</td>\n",
       "      <td>5.0</td>\n",
       "      <td>3</td>\n",
       "      <td>6</td>\n",
       "      <td>0</td>\n",
       "    </tr>\n",
       "  </tbody>\n",
       "</table>\n",
       "</div>"
      ],
      "text/plain": [
       "   reviewerID   asin                                         reviewText  \\\n",
       "0        7885   3901  First off, allow me to correct a common mistak...   \n",
       "1       52087  47978  I am really troubled by this Story and Enterta...   \n",
       "2        5701   3667  A near-perfect film version of a downright glo...   \n",
       "3       47191  40892  Keep your expectations low.  Really really low...   \n",
       "4       40957  15367  \"they dont make em like this no more...\"well.....   \n",
       "\n",
       "   overall  votes_up  votes_all  label  \n",
       "0      5.0         6          7      0  \n",
       "1      3.0        99        134      0  \n",
       "2      4.0        14         14      1  \n",
       "3      1.0         4          7      0  \n",
       "4      5.0         3          6      0  "
      ]
     },
     "execution_count": 2,
     "metadata": {},
     "output_type": "execute_result"
    }
   ],
   "source": [
    "train_df.head()"
   ]
  },
  {
   "cell_type": "code",
   "execution_count": 3,
   "metadata": {},
   "outputs": [
    {
     "data": {
      "text/html": [
       "<div>\n",
       "<style scoped>\n",
       "    .dataframe tbody tr th:only-of-type {\n",
       "        vertical-align: middle;\n",
       "    }\n",
       "\n",
       "    .dataframe tbody tr th {\n",
       "        vertical-align: top;\n",
       "    }\n",
       "\n",
       "    .dataframe thead th {\n",
       "        text-align: right;\n",
       "    }\n",
       "</style>\n",
       "<table border=\"1\" class=\"dataframe\">\n",
       "  <thead>\n",
       "    <tr style=\"text-align: right;\">\n",
       "      <th></th>\n",
       "      <th>Id</th>\n",
       "      <th>reviewerID</th>\n",
       "      <th>asin</th>\n",
       "      <th>reviewText</th>\n",
       "      <th>overall</th>\n",
       "    </tr>\n",
       "  </thead>\n",
       "  <tbody>\n",
       "    <tr>\n",
       "      <th>0</th>\n",
       "      <td>0</td>\n",
       "      <td>82947</td>\n",
       "      <td>37386</td>\n",
       "      <td>I REALLY wanted this series but I am in SHOCK ...</td>\n",
       "      <td>1.0</td>\n",
       "    </tr>\n",
       "    <tr>\n",
       "      <th>1</th>\n",
       "      <td>1</td>\n",
       "      <td>10154</td>\n",
       "      <td>23543</td>\n",
       "      <td>I have to say that this is a work of art for m...</td>\n",
       "      <td>4.0</td>\n",
       "    </tr>\n",
       "    <tr>\n",
       "      <th>2</th>\n",
       "      <td>2</td>\n",
       "      <td>5789</td>\n",
       "      <td>5724</td>\n",
       "      <td>Alien 3 is certainly the most controversal fil...</td>\n",
       "      <td>3.0</td>\n",
       "    </tr>\n",
       "    <tr>\n",
       "      <th>3</th>\n",
       "      <td>3</td>\n",
       "      <td>9198</td>\n",
       "      <td>5909</td>\n",
       "      <td>I love this film...preachy?  Well, of course i...</td>\n",
       "      <td>5.0</td>\n",
       "    </tr>\n",
       "    <tr>\n",
       "      <th>4</th>\n",
       "      <td>4</td>\n",
       "      <td>33252</td>\n",
       "      <td>21214</td>\n",
       "      <td>Even though I previously bought the Gamera Dou...</td>\n",
       "      <td>5.0</td>\n",
       "    </tr>\n",
       "  </tbody>\n",
       "</table>\n",
       "</div>"
      ],
      "text/plain": [
       "   Id  reviewerID   asin                                         reviewText  \\\n",
       "0   0       82947  37386  I REALLY wanted this series but I am in SHOCK ...   \n",
       "1   1       10154  23543  I have to say that this is a work of art for m...   \n",
       "2   2        5789   5724  Alien 3 is certainly the most controversal fil...   \n",
       "3   3        9198   5909  I love this film...preachy?  Well, of course i...   \n",
       "4   4       33252  21214  Even though I previously bought the Gamera Dou...   \n",
       "\n",
       "   overall  \n",
       "0      1.0  \n",
       "1      4.0  \n",
       "2      3.0  \n",
       "3      5.0  \n",
       "4      5.0  "
      ]
     },
     "execution_count": 3,
     "metadata": {},
     "output_type": "execute_result"
    }
   ],
   "source": [
    "test_df.head()"
   ]
  },
  {
   "cell_type": "code",
   "execution_count": 4,
   "metadata": {},
   "outputs": [
    {
     "data": {
      "text/html": [
       "<div>\n",
       "<style scoped>\n",
       "    .dataframe tbody tr th:only-of-type {\n",
       "        vertical-align: middle;\n",
       "    }\n",
       "\n",
       "    .dataframe tbody tr th {\n",
       "        vertical-align: top;\n",
       "    }\n",
       "\n",
       "    .dataframe thead th {\n",
       "        text-align: right;\n",
       "    }\n",
       "</style>\n",
       "<table border=\"1\" class=\"dataframe\">\n",
       "  <thead>\n",
       "    <tr style=\"text-align: right;\">\n",
       "      <th></th>\n",
       "      <th>Id</th>\n",
       "      <th>Expected</th>\n",
       "    </tr>\n",
       "  </thead>\n",
       "  <tbody>\n",
       "    <tr>\n",
       "      <th>0</th>\n",
       "      <td>0</td>\n",
       "      <td>0</td>\n",
       "    </tr>\n",
       "    <tr>\n",
       "      <th>1</th>\n",
       "      <td>1</td>\n",
       "      <td>0</td>\n",
       "    </tr>\n",
       "    <tr>\n",
       "      <th>2</th>\n",
       "      <td>2</td>\n",
       "      <td>0</td>\n",
       "    </tr>\n",
       "    <tr>\n",
       "      <th>3</th>\n",
       "      <td>3</td>\n",
       "      <td>0</td>\n",
       "    </tr>\n",
       "    <tr>\n",
       "      <th>4</th>\n",
       "      <td>4</td>\n",
       "      <td>0</td>\n",
       "    </tr>\n",
       "  </tbody>\n",
       "</table>\n",
       "</div>"
      ],
      "text/plain": [
       "   Id  Expected\n",
       "0   0         0\n",
       "1   1         0\n",
       "2   2         0\n",
       "3   3         0\n",
       "4   4         0"
      ]
     },
     "execution_count": 4,
     "metadata": {},
     "output_type": "execute_result"
    }
   ],
   "source": [
    "testlabels_df.head()"
   ]
  },
  {
   "cell_type": "markdown",
   "metadata": {},
   "source": [
    "本次数据来源于 Amazon 电商平台，包含超过 50,000 条用户在购买商品后留下的评论，各列的含义如下：\n",
    "\n",
    "* reviewerID：用户 ID\n",
    "* asin：商品 ID\n",
    "* reviewText：英文评论文本\n",
    "* overall：用户对商品的打分（1-5）\n",
    "* votes_up：认为评论有用的点赞数（只在训练集出现）\n",
    "* votes_all：该评论得到的总评价数（只在训练集出现）\n",
    "* label：评论质量的 label，1 表示高质量，0 表示低质量（只在训练集出现）\n",
    "\n",
    "评论质量的 label 来自于其他用户对评论的 votes，votes_up/votes_all ≥ 0.9 的作为高质量评论。此外测试集包含一个额外的列 ID，标识了每一个测试的样例。"
   ]
  },
  {
   "cell_type": "markdown",
   "metadata": {},
   "source": [
    "## 4 特征提取\n",
    "- 采用`TfidfVectorizer`进行特征提取\n",
    "- 划分数据集"
   ]
  },
  {
   "cell_type": "code",
   "execution_count": 5,
   "metadata": {},
   "outputs": [
    {
     "data": {
      "text/plain": [
       "((57039, 153747), (57039,), (11208, 153747), (11208,))"
      ]
     },
     "execution_count": 5,
     "metadata": {},
     "output_type": "execute_result"
    }
   ],
   "source": [
    "import numpy as np\n",
    "from sklearn.feature_extraction.text import TfidfVectorizer\n",
    "\n",
    "# 创建 TfidfVectorizer 实例，并指定停用词为 'english'\n",
    "vectorizer = TfidfVectorizer(stop_words='english')\n",
    "\n",
    "# 训练集\n",
    "train_X_all = vectorizer.fit_transform(train_df['reviewText'])\n",
    "train_y_all = np.array(train_df['label'])\n",
    "\n",
    "# 测试集\n",
    "test_X_all = vectorizer.transform(test_df['reviewText']) \n",
    "test_y_all = np.array(testlabels_df['Expected'])\n",
    "\n",
    "train_X_all.shape,train_y_all.shape,test_X_all.shape,test_y_all.shape"
   ]
  },
  {
   "cell_type": "markdown",
   "metadata": {},
   "source": [
    "因为训练集，测试集数据量较大，采用训练集前2000个数据、测试集前200个数据进行代码编写"
   ]
  },
  {
   "cell_type": "code",
   "execution_count": 6,
   "metadata": {},
   "outputs": [
    {
     "data": {
      "text/plain": [
       "((2000, 28961), (2000,), (200, 28961), (200,))"
      ]
     },
     "execution_count": 6,
     "metadata": {},
     "output_type": "execute_result"
    }
   ],
   "source": [
    "# 简单训练集\n",
    "train_X = vectorizer.fit_transform(train_df.reviewText[0:2000])\n",
    "train_y = np.array(train_df.label[0:2000])\n",
    "\n",
    "# 简单测试集\n",
    "test_X = vectorizer.transform(test_df.reviewText[0:200]) \n",
    "test_y = np.array(testlabels_df.Expected[0:200])\n",
    "\n",
    "train_X.shape,train_y.shape,test_X.shape,test_y.shape"
   ]
  },
  {
   "cell_type": "markdown",
   "metadata": {},
   "source": [
    "## 5 模型构建\n",
    "- 采用`sklearn`自带的`BaggingClassifier`, `AdaBoostClassifier`进行训练\n",
    "- 自己构建 Bagging 算法与 AdaBoost 算法，进行训练\n",
    "\n",
    "### 5.1 利用sklearn自带库实现集成学习"
   ]
  },
  {
   "cell_type": "code",
   "execution_count": 7,
   "metadata": {},
   "outputs": [],
   "source": [
    "from sklearn.ensemble import BaggingClassifier, AdaBoostClassifier\n",
    "from sklearn.svm import SVC\n",
    "from sklearn.tree import DecisionTreeClassifier\n",
    "from sklearn.metrics import roc_auc_score\n",
    "\n",
    "RANDOM_SEED = 2024\n",
    "\n",
    "# 定义基分类器\n",
    "svm_classifier = SVC(C=200,kernel='rbf',probability=True)\n",
    "tree_classifier = DecisionTreeClassifier()"
   ]
  },
  {
   "cell_type": "markdown",
   "metadata": {},
   "source": [
    "1. Bagging + SVM"
   ]
  },
  {
   "cell_type": "code",
   "execution_count": 8,
   "metadata": {},
   "outputs": [
    {
     "name": "stdout",
     "output_type": "stream",
     "text": [
      "Bagging + SVM AUC: 0.747968827723429\n"
     ]
    }
   ],
   "source": [
    "# Bagging + SVM\n",
    "bagging_svm = BaggingClassifier(estimator=svm_classifier, n_estimators=50, random_state=RANDOM_SEED)\n",
    "bagging_svm.fit(train_X, train_y)\n",
    "y_pred_bagging_svm = bagging_svm.predict_proba(test_X)[:, 1]\n",
    "auc_bagging_svm = roc_auc_score(test_y, y_pred_bagging_svm)\n",
    "print(\"Bagging + SVM AUC:\", auc_bagging_svm)"
   ]
  },
  {
   "cell_type": "markdown",
   "metadata": {},
   "source": [
    "2.   Bagging + 决策树"
   ]
  },
  {
   "cell_type": "code",
   "execution_count": 9,
   "metadata": {},
   "outputs": [
    {
     "name": "stdout",
     "output_type": "stream",
     "text": [
      "Bagging + Decision Tree AUC: 0.7278229149394795\n"
     ]
    }
   ],
   "source": [
    "# Bagging + 决策树\n",
    "bagging_tree = BaggingClassifier(estimator=tree_classifier, n_estimators=50, random_state=RANDOM_SEED)\n",
    "bagging_tree.fit(train_X, train_y)\n",
    "y_pred_bagging_tree = bagging_tree.predict_proba(test_X)[:, 1]\n",
    "auc_bagging_tree = roc_auc_score(test_y, y_pred_bagging_tree)\n",
    "print(\"Bagging + Decision Tree AUC:\", auc_bagging_tree)"
   ]
  },
  {
   "cell_type": "markdown",
   "metadata": {},
   "source": [
    "3. AdaBoost.M1 + SVM"
   ]
  },
  {
   "cell_type": "code",
   "execution_count": 10,
   "metadata": {},
   "outputs": [
    {
     "name": "stdout",
     "output_type": "stream",
     "text": [
      "AdaBoost.M1 + SVM AUC: 0.7449842480517327\n"
     ]
    }
   ],
   "source": [
    "# AdaBoost.M1 + SVM\n",
    "adaboost_svm = AdaBoostClassifier(estimator=svm_classifier, n_estimators=50, random_state=RANDOM_SEED)\n",
    "adaboost_svm.fit(train_X, train_y)\n",
    "y_pred_adaboost_svm = adaboost_svm.predict_proba(test_X)[:, 1]\n",
    "auc_adaboost_svm = roc_auc_score(test_y, y_pred_adaboost_svm)\n",
    "print(\"AdaBoost.M1 + SVM AUC:\", auc_adaboost_svm)"
   ]
  },
  {
   "cell_type": "markdown",
   "metadata": {},
   "source": [
    "4. AdaBoost.M1 + 决策树"
   ]
  },
  {
   "cell_type": "code",
   "execution_count": 11,
   "metadata": {},
   "outputs": [
    {
     "name": "stdout",
     "output_type": "stream",
     "text": [
      "AdaBoost.M1 + Decision Tree AUC: 0.5928535897861051\n"
     ]
    }
   ],
   "source": [
    "# AdaBoost.M1 + 决策树\n",
    "adaboost_tree = AdaBoostClassifier(estimator=tree_classifier, n_estimators=50, random_state=RANDOM_SEED)\n",
    "adaboost_tree.fit(train_X, train_y)\n",
    "y_pred_adaboost_tree = adaboost_tree.predict_proba(test_X)[:, 1]\n",
    "auc_adaboost_tree = roc_auc_score(test_y, y_pred_adaboost_tree)\n",
    "print(\"AdaBoost.M1 + Decision Tree AUC:\", auc_adaboost_tree)"
   ]
  },
  {
   "cell_type": "markdown",
   "metadata": {},
   "source": [
    "### 5.2 手动实现集成学习\n",
    "1. Bagging算法实现"
   ]
  },
  {
   "cell_type": "code",
   "execution_count": 27,
   "metadata": {},
   "outputs": [],
   "source": [
    "# Bagging 手动实现\n",
    "def bagging(X, y,test_X, base_classifier,num_classifiers):\n",
    "    result = np.zeros(test_X.shape[0])  # 记录测试集的预测结果\n",
    "    for i in range(num_classifiers):\n",
    "        # 随机采样，有放回\n",
    "        indices = np.random.choice(len(y), len(y), replace=True)\n",
    "        X_sampled, y_sampled = X[indices], y[indices]\n",
    "\n",
    "        print('Model {:<2d} finish!'.format(i))\n",
    "        # 训练基分类器\n",
    "        base_classifier.fit(X_sampled, y_sampled)\n",
    "\n",
    "        # 进行预测\n",
    "        predict_proba = base_classifier.predict_proba(test_X)[:, 1]\n",
    "        result += predict_proba  # 累加不同分类器的预测概率\n",
    "    result /= num_classifiers  # 取平均（投票）\n",
    "    return result\n"
   ]
  },
  {
   "cell_type": "code",
   "execution_count": 13,
   "metadata": {},
   "outputs": [
    {
     "name": "stdout",
     "output_type": "stream",
     "text": [
      "Model 0  finish!\n",
      "Model 1  finish!\n",
      "Model 2  finish!\n",
      "Model 3  finish!\n",
      "Model 4  finish!\n",
      "Model 5  finish!\n",
      "Model 6  finish!\n",
      "Model 7  finish!\n",
      "Model 8  finish!\n",
      "Model 9  finish!\n",
      "Bagging + SVM AUC: 0.7456474879787763\n"
     ]
    }
   ],
   "source": [
    "np.random.seed(RANDOM_SEED)\n",
    "num_classifiers=10\n",
    "\n",
    "# 使用 Bagging + SVM\n",
    "y_pred_bagging_svm_self = bagging(train_X, train_y, test_X, svm_classifier,num_classifiers)\n",
    "auc_bagging_svm = roc_auc_score(test_y, y_pred_bagging_svm_self)\n",
    "print(\"Bagging + SVM AUC:\", auc_bagging_svm)"
   ]
  },
  {
   "cell_type": "code",
   "execution_count": 14,
   "metadata": {},
   "outputs": [
    {
     "name": "stdout",
     "output_type": "stream",
     "text": [
      "Model 0  finish!\n",
      "Model 1  finish!\n",
      "Model 2  finish!\n",
      "Model 3  finish!\n",
      "Model 4  finish!\n",
      "Model 5  finish!\n",
      "Model 6  finish!\n",
      "Model 7  finish!\n",
      "Model 8  finish!\n",
      "Model 9  finish!\n",
      "Bagging + Decision Tree AUC: 0.6983916431769193\n"
     ]
    }
   ],
   "source": [
    "# 使用 Bagging + 决策树\n",
    "y_pred_bagging_tree_self = bagging(train_X, train_y, test_X, tree_classifier,num_classifiers)\n",
    "auc_bagging_tree = roc_auc_score(test_y, y_pred_bagging_tree_self)\n",
    "print(\"Bagging + Decision Tree AUC:\", auc_bagging_tree)"
   ]
  },
  {
   "cell_type": "markdown",
   "metadata": {},
   "source": [
    "2. AdaBoost算法实现"
   ]
  },
  {
   "cell_type": "code",
   "execution_count": 15,
   "metadata": {},
   "outputs": [],
   "source": [
    "def adaboost(X, y, test_X, base_classifier,num_classifiers):\n",
    "    result_lst, beta_lst = list(), list()  # 记录每次迭代的预测结果和投票权重\n",
    "    num_samples = len(y)\n",
    "    weight = np.ones(num_samples)  # 样本权重，注意总和应为 num_samples\n",
    "\n",
    "    for i in range(num_classifiers):\n",
    "        # 使用样本权重训练基分类器\n",
    "        base_classifier.fit(X, y, sample_weight=weight) \n",
    "        print('Model {:<2d} finish!'.format(i))\n",
    "        \n",
    "        # 在训练集上进行预测\n",
    "        train_predict = base_classifier.predict(X) \n",
    "\n",
    "        # 计算错误率并更新权重\n",
    "        error_flag = train_predict != y  # 预测错误的位置\n",
    "        error = np.sum(weight[error_flag]) / num_samples  # 计算错误率\n",
    "\n",
    "        if error > 0.5:\n",
    "            break\n",
    "        \n",
    "        # 存储 beta 值和预测结果\n",
    "        beta = error / (1 - error)\n",
    "        weight *= (1.0 - error_flag) * beta + error_flag  # 调整权重，正确位置乘上 beta，错误位置还是原来的\n",
    "        weight /= np.sum(weight) / num_samples  # 归一化，让权重和等于 num_samples\n",
    "\n",
    "        beta_lst.append(beta)\n",
    "        predict_proba = base_classifier.predict_proba(test_X)[:, 1]\n",
    "        result_lst.append(predict_proba)\n",
    "\n",
    "    # 计算最终预测结果，作为加权和\n",
    "    beta_lst = np.log(1 / np.array(beta_lst))\n",
    "    beta_lst /= np.sum(beta_lst)  # 归一化投票权重\n",
    "    \n",
    "    result = (np.array(result_lst) * beta_lst[:, None]).sum(0)  # 每一轮的预测结果加权求和\n",
    "    return result"
   ]
  },
  {
   "cell_type": "code",
   "execution_count": 16,
   "metadata": {},
   "outputs": [
    {
     "name": "stdout",
     "output_type": "stream",
     "text": [
      "Model 0  finish!\n",
      "Model 1  finish!\n",
      "Model 2  finish!\n",
      "Model 3  finish!\n",
      "Model 4  finish!\n",
      "Model 5  finish!\n",
      "Model 6  finish!\n",
      "Model 7  finish!\n",
      "Model 8  finish!\n",
      "Model 9  finish!\n",
      "AdaBoost.M1 + SVM AUC: 0.7541037970485822\n"
     ]
    }
   ],
   "source": [
    "svm_classifier = SVC(kernel='linear', probability=True)\n",
    "# 使用 AdaBoost.M1 + SVM\n",
    "y_pred_adaboost_svm_self = adaboost(train_X, train_y, test_X, svm_classifier,num_classifiers)\n",
    "auc_adaboost_svm = roc_auc_score(test_y, y_pred_adaboost_svm_self)\n",
    "print(\"AdaBoost.M1 + SVM AUC:\", auc_adaboost_svm)"
   ]
  },
  {
   "cell_type": "code",
   "execution_count": 17,
   "metadata": {},
   "outputs": [
    {
     "name": "stdout",
     "output_type": "stream",
     "text": [
      "Model 0  finish!\n",
      "Model 1  finish!\n",
      "Model 2  finish!\n",
      "Model 3  finish!\n",
      "Model 4  finish!\n",
      "Model 5  finish!\n",
      "Model 6  finish!\n",
      "Model 7  finish!\n",
      "AdaBoost.M1 + Decision Tree AUC: 0.5791742662908307\n"
     ]
    }
   ],
   "source": [
    "# 使用 AdaBoost.M1 + SVM\n",
    "tree_classifier=DecisionTreeClassifier(max_depth=10, class_weight='balanced')\n",
    "\n",
    "y_pred_adaboost_tree_self = adaboost(train_X, train_y, test_X, tree_classifier,num_classifiers)\n",
    "auc_adaboost_tree = roc_auc_score(test_y, y_pred_adaboost_tree_self)\n",
    "print(\"AdaBoost.M1 + Decision Tree AUC:\", auc_adaboost_tree)"
   ]
  },
  {
   "cell_type": "markdown",
   "metadata": {},
   "source": [
    "### 5.3 绘制ROC曲线\n",
    "1. 根据sklearn自带的集成学习，绘制的ROC曲线"
   ]
  },
  {
   "cell_type": "code",
   "execution_count": 18,
   "metadata": {},
   "outputs": [],
   "source": [
    "import matplotlib.pyplot as plt\n",
    "from sklearn.metrics import roc_curve, auc\n",
    "\n",
    "# 绘制 ROC 曲线\n",
    "def plot_all_roc_curves(y_true, y_pred_probs, labels):\n",
    "    plt.figure(figsize=(8, 8))\n",
    "\n",
    "    for y_pred_prob, label in zip(y_pred_probs, labels):\n",
    "        fpr, tpr, _ = roc_curve(y_true, y_pred_prob)\n",
    "        roc_auc = auc(fpr, tpr)\n",
    "\n",
    "        plt.plot(fpr, tpr, lw=2, label='{} (AUC = {:.2f})'.format(label, roc_auc))\n",
    "\n",
    "    plt.plot([0, 1], [0, 1], color='navy', lw=2, linestyle='--')\n",
    "    plt.xlabel('False Positive Rate')\n",
    "    plt.ylabel('True Positive Rate')\n",
    "    plt.title('Receiver Operating Characteristic')\n",
    "    plt.legend(loc='lower right')\n",
    "    plt.show()\n"
   ]
  },
  {
   "cell_type": "code",
   "execution_count": 19,
   "metadata": {},
   "outputs": [
    {
     "data": {
      "image/png": "[encoded data removed]",
      "text/plain": [
       "<Figure size 800x800 with 1 Axes>"
      ]
     },
     "metadata": {},
     "output_type": "display_data"
    }
   ],
   "source": [
    "# 绘制所有 ROC 曲线\n",
    "plot_all_roc_curves(test_y, [y_pred_bagging_svm, y_pred_bagging_tree, y_pred_adaboost_svm, y_pred_adaboost_tree],\n",
    "                    ['Bagging + SVM', 'Bagging + Decision Tree', 'AdaBoost.M1 + SVM', 'AdaBoost.M1 + Decision Tree'])"
   ]
  },
  {
   "cell_type": "markdown",
   "metadata": {},
   "source": [
    "2. 根据手动实现的集成学习代码绘制ROC图"
   ]
  },
  {
   "cell_type": "code",
   "execution_count": 20,
   "metadata": {},
   "outputs": [
    {
     "data": {
      "image/png": "[encoded data removed]",
      "text/plain": [
       "<Figure size 800x800 with 1 Axes>"
      ]
     },
     "metadata": {},
     "output_type": "display_data"
    }
   ],
   "source": [
    "# 绘制所有 ROC 曲线\n",
    "plot_all_roc_curves(test_y, [y_pred_bagging_svm_self, y_pred_bagging_tree_self, y_pred_adaboost_svm_self, y_pred_adaboost_tree_self],\n",
    "                    ['Bagging + SVM', 'Bagging + Decision Tree', 'AdaBoost.M1 + SVM', 'AdaBoost.M1 + Decision Tree'])"
   ]
  },
  {
   "cell_type": "markdown",
   "metadata": {},
   "source": [
    "## 6 云平台提交格式\n",
    "\n",
    "提交文件需要对测试集中每一条评论给出预测为高质量的概率，每行包括一个 ID（和测试集对应）以及预测的概率 Prediction（0-1的浮点数），用逗号分隔。示例提交格式如下：\n",
    "\n",
    "```\n",
    "ID,Prediction\n",
    "0,0.9\n",
    "1,0.45\n",
    "2,0.78\n",
    "...\n",
    "```\n",
    "\n",
    "文件命名没有要求。"
   ]
  },
  {
   "cell_type": "code",
   "execution_count": 30,
   "metadata": {},
   "outputs": [
    {
     "name": "stdout",
     "output_type": "stream",
     "text": [
      "Model 0  finish!\n",
      "Model 1  finish!\n",
      "Model 2  finish!\n",
      "Model 3  finish!\n",
      "Model 4  finish!\n",
      "Model 5  finish!\n",
      "Model 6  finish!\n",
      "Model 7  finish!\n",
      "Model 8  finish!\n",
      "Model 9  finish!\n",
      "Model 10 finish!\n",
      "Model 11 finish!\n",
      "Model 12 finish!\n",
      "Model 13 finish!\n",
      "Model 14 finish!\n",
      "Model 15 finish!\n",
      "Model 16 finish!\n",
      "Model 17 finish!\n",
      "Model 18 finish!\n",
      "Model 19 finish!\n",
      "Model 20 finish!\n",
      "Model 21 finish!\n",
      "Model 22 finish!\n",
      "Model 23 finish!\n",
      "Model 24 finish!\n",
      "Model 25 finish!\n",
      "Model 26 finish!\n",
      "Model 27 finish!\n",
      "Model 28 finish!\n",
      "Model 29 finish!\n",
      "Model 30 finish!\n",
      "Model 31 finish!\n",
      "Model 32 finish!\n",
      "Model 33 finish!\n",
      "Model 34 finish!\n",
      "Model 35 finish!\n",
      "Model 36 finish!\n",
      "Model 37 finish!\n",
      "Model 38 finish!\n",
      "Model 39 finish!\n",
      "Model 40 finish!\n",
      "Model 41 finish!\n",
      "Model 42 finish!\n",
      "Model 43 finish!\n",
      "Model 44 finish!\n",
      "Model 45 finish!\n",
      "Model 46 finish!\n",
      "Model 47 finish!\n",
      "Model 48 finish!\n",
      "Model 49 finish!\n",
      "Model 50 finish!\n",
      "Model 51 finish!\n",
      "Model 52 finish!\n",
      "Model 53 finish!\n",
      "Model 54 finish!\n",
      "Model 55 finish!\n",
      "Model 56 finish!\n",
      "Model 57 finish!\n",
      "Model 58 finish!\n",
      "Model 59 finish!\n",
      "Model 60 finish!\n",
      "Model 61 finish!\n",
      "Model 62 finish!\n",
      "Model 63 finish!\n",
      "Model 64 finish!\n",
      "Model 65 finish!\n",
      "Model 66 finish!\n",
      "Model 67 finish!\n",
      "Model 68 finish!\n",
      "Model 69 finish!\n",
      "Model 70 finish!\n",
      "Model 71 finish!\n",
      "Model 72 finish!\n",
      "Model 73 finish!\n",
      "Model 74 finish!\n",
      "Model 75 finish!\n",
      "Model 76 finish!\n",
      "Model 77 finish!\n",
      "Model 78 finish!\n",
      "Model 79 finish!\n",
      "Model 80 finish!\n",
      "Model 81 finish!\n",
      "Model 82 finish!\n",
      "Model 83 finish!\n",
      "Model 84 finish!\n",
      "Model 85 finish!\n",
      "Model 86 finish!\n",
      "Model 87 finish!\n",
      "Model 88 finish!\n",
      "Model 89 finish!\n",
      "Model 90 finish!\n",
      "Model 91 finish!\n",
      "Model 92 finish!\n",
      "Model 93 finish!\n",
      "Model 94 finish!\n",
      "Model 95 finish!\n",
      "Model 96 finish!\n",
      "Model 97 finish!\n",
      "Model 98 finish!\n",
      "Model 99 finish!\n",
      "Bagging + SVM AUC: 0.7812187133616998\n"
     ]
    }
   ],
   "source": [
    "from sklearn import svm\n",
    "from sklearn.calibration import CalibratedClassifierCV\n",
    "\n",
    "svm_classifier=svm.LinearSVC(dual='auto')\n",
    "svm_classifier = CalibratedClassifierCV(svm_classifier, method='sigmoid')\n",
    "num_classifiers = 100\n",
    "\n",
    "# 使用 Bagging + SVM\n",
    "y_pred_bagging_svm_self = bagging(train_X_all, train_y_all, test_X_all, svm_classifier,num_classifiers)\n",
    "auc_bagging_svm = roc_auc_score(test_y_all, y_pred_bagging_svm_self)\n",
    "print(\"Bagging + SVM AUC:\", auc_bagging_svm)"
   ]
  },
  {
   "cell_type": "code",
   "execution_count": 29,
   "metadata": {},
   "outputs": [],
   "source": [
    "# 生成提交文件\n",
    "result_df = pd.DataFrame()\n",
    "result_df['ID'] = test_df['Id'].values\n",
    "result_df['Prediction'] = y_pred_bagging_svm_self.round(2)  # 保留两位小数\n",
    "result_df.to_csv('./result.csv', index=False)"
   ]
  }
 ],
 "metadata": {
  "kernelspec": {
   "display_name": "Python 3",
   "language": "python",
   "name": "python3"
  },
  "language_info": {
   "codemirror_mode": {
    "name": "ipython",
    "version": 3
   },
   "file_extension": ".py",
   "mimetype": "text/x-python",
   "name": "python",
   "nbconvert_exporter": "python",
   "pygments_lexer": "ipython3",
   "version": "3.11.5"
  }
 },
 "nbformat": 4,
 "nbformat_minor": 4
}
