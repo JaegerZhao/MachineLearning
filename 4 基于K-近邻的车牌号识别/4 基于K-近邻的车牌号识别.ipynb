{
 "cells": [
  {
   "cell_type": "markdown",
   "metadata": {},
   "source": [
    "# 实验四: 基于K-近邻的车牌号识别"
   ]
  },
  {
   "cell_type": "markdown",
   "metadata": {},
   "source": [
    "## 1 案例简介\n",
    "\n",
    "图像的智能处理一直是人工智能领域广受关注的一类技术，代表性的如人脸识别与 CT 肿瘤识别，在人工智能落地的进程中发挥着重要作用。其中车牌号识别作为一个早期应用场景，已经融入日常生活中，为我们提供了诸多便利，在各地的停车场和出入口都能看到它的身影。车牌号识别往往分为字符划分和字符识别两个子任务，本案例我们将关注字符识别的任务，尝试用 K-NN 的方法对分割好的字符图像进行自动识别和转化。\n",
    "\n",
    "## 2 作业说明\n",
    "\n",
    "### 2.1 基本要求\n",
    "* 完成数据的读入和表示，将图片表示成向量并和 label 对应上；\n",
    "* 构建 K-NN 模型（可调库）对测试集中的图片进行预测并计算准确率；\n",
    "* 分析当 K 取不同值时测试准确率的变化。\n",
    "\n",
    "### 2.2 扩展要求\n",
    "* 分析不同距离度量方式对模型效果的影响；\n",
    "* 对比平权和加权 K-NN 的效果；\n",
    "* 分析训练集大小对测试结果的影响。"
   ]
  },
  {
   "cell_type": "markdown",
   "metadata": {},
   "source": [
    "## 3 数据概览\n",
    "本次我们使用已经分割好的车牌图片作为数据集，包括数字 0-9、字母 A-Z（不包含 O 和 I）以及省份简称共 65 个类，编号从 0 到 64。数据已经分成了训练集和测试集，里面的文件夹用 label 编号命名，一个文件夹下的所有图片都属于该文件夹对应的类，每个图片都是 20 * 20 的二值化灰度图。\n",
    "\n",
    "下面演示一下如何借助 PIL 库将图片转化为向量："
   ]
  },
  {
   "cell_type": "code",
   "execution_count": 1,
   "metadata": {},
   "outputs": [
    {
     "data": {
      "image/png": "[encoded data removed]",
      "text/plain": [
       "<PIL.JpegImagePlugin.JpegImageFile image mode=L size=20x20>"
      ]
     },
     "execution_count": 1,
     "metadata": {},
     "output_type": "execute_result"
    }
   ],
   "source": [
    "from PIL import Image\n",
    "img = Image.open('data/train/0/4-3.jpg')  # 打开图片\n",
    "img  # 显示图片from PIL import Image\n",
    "img = Image.open('data/train/0/4-3.jpg')  # 打开图片\n",
    "img  # 显示图片"
   ]
  },
  {
   "cell_type": "code",
   "execution_count": 2,
   "metadata": {},
   "outputs": [
    {
     "data": {
      "text/plain": [
       "(20, 20)"
      ]
     },
     "execution_count": 2,
     "metadata": {},
     "output_type": "execute_result"
    }
   ],
   "source": [
    "import numpy as np\n",
    "pixels = np.array(img)  # 转化为 numpy 矩阵\n",
    "pixels.shape"
   ]
  },
  {
   "cell_type": "markdown",
   "metadata": {},
   "source": [
    "## 4 模型构建"
   ]
  },
  {
   "cell_type": "code",
   "execution_count": 3,
   "metadata": {},
   "outputs": [],
   "source": [
    "import os\n",
    "from PIL import Image\n",
    "import numpy as np\n",
    "from sklearn.neighbors import KNeighborsClassifier\n",
    "from sklearn.metrics import accuracy_score\n",
    "import matplotlib.pyplot as plt\n",
    "import seaborn as sns\n",
    "import random\n",
    "\n",
    "RANDOM_SEED = 2023\n",
    "\n",
    "path_train = 'data/train'\n",
    "path_test = 'data/test'"
   ]
  },
  {
   "cell_type": "markdown",
   "metadata": {},
   "source": [
    "### 4.1数据读取\n",
    "1. 读取图片\n",
    "\n",
    "    读取文件夹中指定数量图片"
   ]
  },
  {
   "cell_type": "code",
   "execution_count": 4,
   "metadata": {},
   "outputs": [
    {
     "data": {
      "text/plain": [
       "5"
      ]
     },
     "execution_count": 4,
     "metadata": {},
     "output_type": "execute_result"
    }
   ],
   "source": [
    "# 读取 num 张图片，将其转换为一维向量\n",
    "def readImg(path, num = -1):\n",
    "    count =0\n",
    "    random.seed(RANDOM_SEED)\n",
    "    img_array=[]\n",
    "    for img_name in os.listdir(path):\n",
    "        img_path = os.path.join(path,img_name)\n",
    "        img = Image.open(img_path)\n",
    "        img_array.append(np.array(img).reshape(-1))\n",
    "    if num > 0 and num < len(img_array):\n",
    "        img_array = random.sample(img_array,num)\n",
    "    return img_array\n",
    "\n",
    "# 测试该函数\n",
    "folder_path = path_train+'/0'\n",
    "num = 5\n",
    "Imgs = readImg(folder_path,num)\n",
    "len(Imgs)"
   ]
  },
  {
   "cell_type": "markdown",
   "metadata": {},
   "source": [
    "2. 读取文件夹与标签"
   ]
  },
  {
   "cell_type": "code",
   "execution_count": 5,
   "metadata": {},
   "outputs": [
    {
     "data": {
      "text/plain": [
       "((325, 400), (325,))"
      ]
     },
     "execution_count": 5,
     "metadata": {},
     "output_type": "execute_result"
    }
   ],
   "source": [
    "# 读取文件标签，并返回图片、标签列表\n",
    "def readFile(path,nums = -1):\n",
    "    labels =[]\n",
    "    Imglist = []\n",
    "    for label in os.listdir(path):\n",
    "        path_file = os.path.join(path,label)\n",
    "        Imgs = readImg(path_file,nums)\n",
    "        Imglist = Imglist + Imgs\n",
    "        for i in range(len(Imgs)):\n",
    "            labels.append(label)\n",
    "    return np.array(Imglist), np.array(labels)\n",
    "\n",
    "# 测试该函数\n",
    "nums = 5\n",
    "x,y = readFile(path_train,nums)\n",
    "x.shape,y.shape"
   ]
  },
  {
   "cell_type": "markdown",
   "metadata": {},
   "source": [
    "### 4.2 划分数据集"
   ]
  },
  {
   "cell_type": "code",
   "execution_count": 6,
   "metadata": {},
   "outputs": [
    {
     "data": {
      "text/plain": [
       "((15954, 400), (15954,), (4665, 400), (4665,))"
      ]
     },
     "execution_count": 6,
     "metadata": {},
     "output_type": "execute_result"
    }
   ],
   "source": [
    "x_train,y_train = readFile(path_train)\n",
    "x_test,y_test = readFile(path_test)\n",
    "x_train.shape, y_train.shape, x_test.shape, y_test.shape  # 观察训练与测试数据规模"
   ]
  },
  {
   "cell_type": "markdown",
   "metadata": {},
   "source": [
    "### 4.3 模型的训练"
   ]
  },
  {
   "cell_type": "code",
   "execution_count": 7,
   "metadata": {},
   "outputs": [
    {
     "name": "stdout",
     "output_type": "stream",
     "text": [
      "accuracy: 0.7031\n"
     ]
    }
   ],
   "source": [
    "model = KNeighborsClassifier(n_neighbors=3, weights='uniform', algorithm='auto')\n",
    "model.fit(x_train, y_train)  # 记录训练数据\n",
    "p_test = model.predict(x_test)  # 预测测试图片\n",
    "accuracy = accuracy_score(p_test, y_test)  # 计算准确率\n",
    "print(f'accuracy: {accuracy:.4f}')"
   ]
  },
  {
   "cell_type": "markdown",
   "metadata": {},
   "source": [
    "经过测试，在参数取值为`n_neighbors=3, weights='uniform', algorithm='auto'`时，预测准确率为0.7031\n",
    "\n",
    "## 5 模型优化\n",
    "* 分析当 K 取不同值时测试准确率的变化；\n",
    "* 分析不同距离度量方式对模型效果的影响；\n",
    "* 对比平权和加权 K-NN 的效果；\n",
    "* 分析训练集大小对测试结果的影响。\n",
    "\n",
    "### 5.1 不同K值对准确率的变化"
   ]
  },
  {
   "cell_type": "code",
   "execution_count": 8,
   "metadata": {},
   "outputs": [
    {
     "name": "stdout",
     "output_type": "stream",
     "text": [
      "K: 1, accuracy: 0.7168\n",
      "K: 2, accuracy: 0.7220\n",
      "K: 3, accuracy: 0.7031\n",
      "K: 4, accuracy: 0.7074\n",
      "K: 5, accuracy: 0.6969\n",
      "K: 6, accuracy: 0.6965\n",
      "K: 7, accuracy: 0.6956\n",
      "K: 8, accuracy: 0.6924\n",
      "K: 9, accuracy: 0.6913\n",
      "K: 10, accuracy: 0.6911\n",
      "K: 11, accuracy: 0.6898\n",
      "K: 12, accuracy: 0.6857\n",
      "K: 13, accuracy: 0.6825\n",
      "K: 14, accuracy: 0.6806\n",
      "K: 15, accuracy: 0.6776\n",
      "K: 16, accuracy: 0.6742\n",
      "K: 17, accuracy: 0.6707\n",
      "K: 18, accuracy: 0.6686\n",
      "K: 19, accuracy: 0.6662\n",
      "K: 20, accuracy: 0.6673\n"
     ]
    },
    {
     "data": {
      "image/png": "[encoded data removed]",
      "text/plain": [
       "<Figure size 640x480 with 1 Axes>"
      ]
     },
     "metadata": {},
     "output_type": "display_data"
    }
   ],
   "source": [
    "k_range = range(1,21)\n",
    "acc_list = []\n",
    "sns.set()\n",
    "\n",
    "for k in k_range:  # 遍历邻居的个数 k\n",
    "    model = KNeighborsClassifier(k)\n",
    "    model.fit(x_train, y_train)  # 记录训练数据\n",
    "    p_test = model.predict(x_test)  # 预测测试图片\n",
    "    accuracy = accuracy_score(p_test, y_test)  # 计算准确率\n",
    "    acc_list.append(accuracy)\n",
    "    print('K: {}, accuracy: {:<.4f}'.format(k, accuracy))\n",
    "    \n",
    "plt.plot(k_range, acc_list)  # 画图\n",
    "plt.xlabel('K')\n",
    "plt.ylabel('Accuracy')\n",
    "plt.show()"
   ]
  },
  {
   "cell_type": "markdown",
   "metadata": {},
   "source": [
    "由上图可知，在k值取2时准确率最高，随着k值增大，模型准确率程降低趋势\n",
    "\n",
    "### 5.2 不同距离度量对模型效果变化\n",
    "\n",
    "通过改变 `metric` 参数来测试不同的距离度量。\n",
    "- `minkowski`:闵可夫斯基距离，默认距离度量。\n",
    "    ![minkowski](https://img-blog.csdnimg.cn/20210606140941641.png#pic_center)\n",
    "- `euclidean`:欧几里得距离，两个数值向量点之间的长度\n",
    "    ![euclidean](https://img-blog.csdnimg.cn/20210606140530231.png#pic_center)\n",
    "- `manhattan`:曼哈顿距离，又称城市街区距离，它的计算方式有点类似于只能90度拐角的街道长度。\n",
    "\n",
    "    ![manhattan](https://img-blog.csdnimg.cn/20210606140814941.png#pic_center)\n",
    "- `chebyshev`:chebyshev距离是两个数值向量在单个维度上绝对值差值最大的那个值\n",
    "    ![chebyshev](https://img-blog.csdnimg.cn/20210606140912741.png#pic_center)"
   ]
  },
  {
   "cell_type": "code",
   "execution_count": 9,
   "metadata": {},
   "outputs": [
    {
     "name": "stdout",
     "output_type": "stream",
     "text": [
      "metric: minkowski, accuracy: 0.6969\n",
      "metric: euclidean, accuracy: 0.6969\n",
      "metric: manhattan, accuracy: 0.6920\n",
      "metric: chebyshev, accuracy: 0.4090\n"
     ]
    }
   ],
   "source": [
    "metrics = ['minkowski', 'euclidean', 'manhattan', 'chebyshev' ]\n",
    "acc_list = []\n",
    "\n",
    "for metric in metrics:  # 遍历距离度量类型\n",
    "    model = KNeighborsClassifier(metric = metric)\n",
    "    model.fit(x_train, y_train)  # 记录训练数据\n",
    "    p_test = model.predict(x_test)  # 预测测试图片\n",
    "    accuracy = accuracy_score(p_test, y_test)  # 计算准确率\n",
    "    acc_list.append(accuracy)\n",
    "    print('metric: {}, accuracy: {:<.4f}'.format(metric, accuracy))\n"
   ]
  },
  {
   "cell_type": "code",
   "execution_count": 10,
   "metadata": {},
   "outputs": [
    {
     "data": {
      "image/png": "[encoded data removed]",
      "text/plain": [
       "<Figure size 640x480 with 1 Axes>"
      ]
     },
     "metadata": {},
     "output_type": "display_data"
    }
   ],
   "source": [
    "plt.bar(metrics, acc_list)  # 画图\n",
    "plt.show()"
   ]
  },
  {
   "cell_type": "markdown",
   "metadata": {},
   "source": [
    "由上图可见，`minkowski`, `euclidean`, `manhattan`三种举例向量效果类似， `chebyshev`效果明显较差。\n",
    "\n",
    "### 5.3 平均和加权KNN的区别\n",
    "\n",
    "- `uniform`: 平均KNN，这意味着所有的邻居节点在投票过程中具有相同的权重。也就是说，每个邻居节点对最终结果的影响是一样的，不考虑它们与查询点的距离。\n",
    "\n",
    "- `distance`:加权KNN，这意味着邻居节点的权重与它们到查询点的距离成反比。也就是说，距离查询点更近的邻居节点将对最终结果有更大的影响，而距离较远的邻居节点的影响较小。\n"
   ]
  },
  {
   "cell_type": "code",
   "execution_count": 11,
   "metadata": {},
   "outputs": [
    {
     "name": "stdout",
     "output_type": "stream",
     "text": [
      "metric: chebyshev, accuracy: 0.6969\n",
      "metric: chebyshev, accuracy: 0.7016\n"
     ]
    }
   ],
   "source": [
    "weights = ['uniform', 'distance']\n",
    "acc_list = []\n",
    "\n",
    "for weight in weights:\n",
    "    model = KNeighborsClassifier(weights = weight)\n",
    "    model.fit(x_train, y_train)  # 记录训练数据\n",
    "    p_test = model.predict(x_test)  # 预测测试图片\n",
    "    accuracy = accuracy_score(p_test, y_test)  # 计算准确率\n",
    "    acc_list.append(accuracy)\n",
    "    print('metric: {}, accuracy: {:<.4f}'.format(metric, accuracy))"
   ]
  },
  {
   "cell_type": "code",
   "execution_count": 12,
   "metadata": {},
   "outputs": [
    {
     "data": {
      "image/png": "[encoded data removed]",
      "text/plain": [
       "<Figure size 640x480 with 1 Axes>"
      ]
     },
     "metadata": {},
     "output_type": "display_data"
    }
   ],
   "source": [
    "plt.bar(weights, acc_list)  # 画图\n",
    "plt.show()"
   ]
  },
  {
   "cell_type": "markdown",
   "metadata": {},
   "source": [
    "由上图可见，平均与加权结果类似，加权效果较好于平均KNN。\n",
    "\n",
    "### 5.4 训练集大小对模型效果的影响"
   ]
  },
  {
   "cell_type": "code",
   "execution_count": 15,
   "metadata": {},
   "outputs": [
    {
     "name": "stdout",
     "output_type": "stream",
     "text": [
      "train: 1, accuracy: 0.1972\n",
      "train: 5, accuracy: 0.4264\n",
      "train: 10, accuracy: 0.5035\n",
      "train: 20, accuracy: 0.5906\n",
      "train: 50, accuracy: 0.6568\n",
      "train: 100, accuracy: 0.6707\n",
      "train: 200, accuracy: 0.7005\n",
      "train: 400, accuracy: 0.7065\n",
      "train: 600, accuracy: 0.7025\n"
     ]
    }
   ],
   "source": [
    "train_range = [1, 5, 10, 20, 50, 100, 200, 400, 600]\n",
    "acc_lst = list()\n",
    "\n",
    "for train_num in train_range:\n",
    "    x_train, y_train = readFile(path_train, train_num)\n",
    "    model = KNeighborsClassifier()\n",
    "    model.fit(x_train, y_train)\n",
    "    p_test = model.predict(x_test)\n",
    "    accuracy = accuracy_score(p_test, y_test)\n",
    "    acc_lst.append(accuracy)\n",
    "    print('train: {}, accuracy: {:<.4f}'.format(train_num, accuracy))"
   ]
  },
  {
   "cell_type": "code",
   "execution_count": 17,
   "metadata": {},
   "outputs": [
    {
     "data": {
      "image/png": "[encoded data removed]",
      "text/plain": [
       "<Figure size 640x480 with 1 Axes>"
      ]
     },
     "metadata": {},
     "output_type": "display_data"
    }
   ],
   "source": [
    "plt.plot(train_range, acc_lst)\n",
    "plt.xlabel('train')\n",
    "plt.ylabel('Accuracy')\n",
    "plt.show()"
   ]
  },
  {
   "cell_type": "markdown",
   "metadata": {},
   "source": [
    "由上图可见，数据集数量越大，准确率越高，但是达到一定大小后增长变缓，甚至会有略微降低。"
   ]
  }
 ],
 "metadata": {
  "kernelspec": {
   "display_name": "Python 3",
   "language": "python",
   "name": "python3"
  },
  "language_info": {
   "codemirror_mode": {
    "name": "ipython",
    "version": 3
   },
   "file_extension": ".py",
   "mimetype": "text/x-python",
   "name": "python",
   "nbconvert_exporter": "python",
   "pygments_lexer": "ipython3",
   "version": "3.11.5"
  }
 },
 "nbformat": 4,
 "nbformat_minor": 4
}
