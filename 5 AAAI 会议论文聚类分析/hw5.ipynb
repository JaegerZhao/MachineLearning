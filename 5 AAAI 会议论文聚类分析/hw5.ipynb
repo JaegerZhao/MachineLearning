{
 "cells": [
  {
   "cell_type": "markdown",
   "metadata": {},
   "source": [
    "本次实验以AAAI 2014会议论文数据为基础，要求实现或调用无监督聚类算法，了解聚类方法。"
   ]
  },
  {
   "cell_type": "markdown",
   "metadata": {},
   "source": [
    "### 1 任务介绍\n",
    "每年国际上召开的大大小小学术会议不计其数，发表了非常多的论文。在计算机领域的一些大型学术会议上，一次就可以发表涉及各个方向的几百篇论文。按论文的主题、内容进行聚类，有助于人们高效地查找和获得所需要的论文。本案例数据来源于AAAI 2014上发表的约400篇文章，由[UCI](https://archive.ics.uci.edu/ml/datasets/AAAI+2014+Accepted+Papers!)公开提供，提供包括标题、作者、关键词、摘要在内的信息，希望大家能根据这些信息，合理地构造特征向量来表示这些论文，并设计实现或调用聚类算法对论文进行聚类。最后也可以对聚类结果进行观察，看每一类都是什么样的论文，是否有一些主题。\n",
    "\n",
    "基本要求：\n",
    "1. 将文本转化为向量，实现或调用无监督聚类算法，对论文聚类，例如10类（可使用已有工具包例如sklearn）；\n",
    "2. 观察每一类中的论文，调整算法使结果较为合理；\n",
    "3. 无监督聚类没有标签，效果较难评价，因此没有硬性指标，跑通即可，主要让大家了解和感受聚类算法，比较简单。\n",
    "\n",
    "扩展要求：\n",
    "1. 对文本向量进行降维，并将聚类结果可视化成散点图。\n",
    "\n",
    "注：group和topic也不能完全算是标签，因为\n",
    "1. 有些文章作者投稿时可能会选择某个group/topic但实际和另外group/topic也相关甚至更相关；\n",
    "2. 一篇文章可能有多个group和topic，作为标签会出现有的文章同属多个类别，这里暂不考虑这样的聚类；\n",
    "3. group和topic的取值很多，但聚类常常希望指定聚合成出例如5/10/20类；\n",
    "4. 感兴趣但同学可以思考利用group和topic信息来量化评价无监督聚类结果，不作要求。\n",
    "\n",
    "提示：\n",
    "1. 高维向量的降维旨在去除一些高相关性的特征维度，保留最有用的信息，用更低维的向量表示高维数据，常用的方法有PCA和t-SNE等；\n",
    "2. 降维与聚类是两件不同的事情，聚类实际上在降维前的高维向量和降维后的低维向量上都可以进行，结果也可能截然不同；\n",
    "3. 高维向量做聚类，降维可视化后若有同一类的点不在一起，是正常的。在高维空间中它们可能是在一起的，降维后损失了一些信息。"
   ]
  },
  {
   "cell_type": "code",
   "execution_count": 1,
   "metadata": {},
   "outputs": [],
   "source": [
    "import pandas as pd\n",
    "import numpy as np"
   ]
  },
  {
   "cell_type": "markdown",
   "metadata": {},
   "source": [
    "### 2 导入数据"
   ]
  },
  {
   "cell_type": "code",
   "execution_count": 2,
   "metadata": {},
   "outputs": [
    {
     "data": {
      "text/html": [
       "<div>\n",
       "<style scoped>\n",
       "    .dataframe tbody tr th:only-of-type {\n",
       "        vertical-align: middle;\n",
       "    }\n",
       "\n",
       "    .dataframe tbody tr th {\n",
       "        vertical-align: top;\n",
       "    }\n",
       "\n",
       "    .dataframe thead th {\n",
       "        text-align: right;\n",
       "    }\n",
       "</style>\n",
       "<table border=\"1\" class=\"dataframe\">\n",
       "  <thead>\n",
       "    <tr style=\"text-align: right;\">\n",
       "      <th></th>\n",
       "      <th>title</th>\n",
       "      <th>authors</th>\n",
       "      <th>groups</th>\n",
       "      <th>keywords</th>\n",
       "      <th>topics</th>\n",
       "      <th>abstract</th>\n",
       "    </tr>\n",
       "  </thead>\n",
       "  <tbody>\n",
       "    <tr>\n",
       "      <th>0</th>\n",
       "      <td>Kernelized Bayesian Transfer Learning</td>\n",
       "      <td>Mehmet Gönen and Adam A. Margolin</td>\n",
       "      <td>Novel Machine Learning Algorithms (NMLA)</td>\n",
       "      <td>cross-domain learning\\ndomain adaptation\\nkern...</td>\n",
       "      <td>APP: Biomedical / Bioinformatics\\nNMLA: Bayesi...</td>\n",
       "      <td>Transfer learning considers related but distin...</td>\n",
       "    </tr>\n",
       "    <tr>\n",
       "      <th>1</th>\n",
       "      <td>\"Source Free\" Transfer Learning for Text Class...</td>\n",
       "      <td>Zhongqi Lu, Yin Zhu, Sinno Pan, Evan Xiang, Yu...</td>\n",
       "      <td>AI and the Web (AIW)\\nNovel Machine Learning A...</td>\n",
       "      <td>Transfer Learning\\nAuxiliary Data Retrieval\\nT...</td>\n",
       "      <td>AIW: Knowledge acquisition from the web\\nAIW: ...</td>\n",
       "      <td>Transfer learning uses relevant auxiliary data...</td>\n",
       "    </tr>\n",
       "    <tr>\n",
       "      <th>2</th>\n",
       "      <td>A Generalization of Probabilistic Serial to Ra...</td>\n",
       "      <td>Haris Aziz and Paul Stursberg</td>\n",
       "      <td>Game Theory and Economic Paradigms (GTEP)</td>\n",
       "      <td>social choice theory\\nvoting\\nfair division\\ns...</td>\n",
       "      <td>GTEP: Game Theory\\nGTEP: Social Choice / Voting</td>\n",
       "      <td>The probabilistic serial (PS) rule is one of t...</td>\n",
       "    </tr>\n",
       "  </tbody>\n",
       "</table>\n",
       "</div>"
      ],
      "text/plain": [
       "                                               title  \\\n",
       "0              Kernelized Bayesian Transfer Learning   \n",
       "1  \"Source Free\" Transfer Learning for Text Class...   \n",
       "2  A Generalization of Probabilistic Serial to Ra...   \n",
       "\n",
       "                                             authors  \\\n",
       "0                  Mehmet Gönen and Adam A. Margolin   \n",
       "1  Zhongqi Lu, Yin Zhu, Sinno Pan, Evan Xiang, Yu...   \n",
       "2                      Haris Aziz and Paul Stursberg   \n",
       "\n",
       "                                              groups  \\\n",
       "0           Novel Machine Learning Algorithms (NMLA)   \n",
       "1  AI and the Web (AIW)\\nNovel Machine Learning A...   \n",
       "2          Game Theory and Economic Paradigms (GTEP)   \n",
       "\n",
       "                                            keywords  \\\n",
       "0  cross-domain learning\\ndomain adaptation\\nkern...   \n",
       "1  Transfer Learning\\nAuxiliary Data Retrieval\\nT...   \n",
       "2  social choice theory\\nvoting\\nfair division\\ns...   \n",
       "\n",
       "                                              topics  \\\n",
       "0  APP: Biomedical / Bioinformatics\\nNMLA: Bayesi...   \n",
       "1  AIW: Knowledge acquisition from the web\\nAIW: ...   \n",
       "2    GTEP: Game Theory\\nGTEP: Social Choice / Voting   \n",
       "\n",
       "                                            abstract  \n",
       "0  Transfer learning considers related but distin...  \n",
       "1  Transfer learning uses relevant auxiliary data...  \n",
       "2  The probabilistic serial (PS) rule is one of t...  "
      ]
     },
     "execution_count": 2,
     "metadata": {},
     "output_type": "execute_result"
    }
   ],
   "source": [
    "data_df = pd.read_csv('./data/[UCI] AAAI-14 Accepted Papers - Papers.csv') # 读入 csv 文件为 pandas 的 DataFrame\n",
    "data_df.head(3) # 显示前三条数据"
   ]
  },
  {
   "cell_type": "code",
   "execution_count": 3,
   "metadata": {},
   "outputs": [
    {
     "name": "stdout",
     "output_type": "stream",
     "text": [
      "<class 'pandas.core.frame.DataFrame'>\n",
      "RangeIndex: 398 entries, 0 to 397\n",
      "Data columns (total 6 columns):\n",
      " #   Column    Non-Null Count  Dtype \n",
      "---  ------    --------------  ----- \n",
      " 0   title     398 non-null    object\n",
      " 1   authors   398 non-null    object\n",
      " 2   groups    396 non-null    object\n",
      " 3   keywords  398 non-null    object\n",
      " 4   topics    394 non-null    object\n",
      " 5   abstract  398 non-null    object\n",
      "dtypes: object(6)\n",
      "memory usage: 18.8+ KB\n"
     ]
    }
   ],
   "source": [
    "data_df.info() # 显示数据基本信息"
   ]
  },
  {
   "cell_type": "code",
   "execution_count": 4,
   "metadata": {},
   "outputs": [
    {
     "data": {
      "text/html": [
       "<div>\n",
       "<style scoped>\n",
       "    .dataframe tbody tr th:only-of-type {\n",
       "        vertical-align: middle;\n",
       "    }\n",
       "\n",
       "    .dataframe tbody tr th {\n",
       "        vertical-align: top;\n",
       "    }\n",
       "\n",
       "    .dataframe thead th {\n",
       "        text-align: right;\n",
       "    }\n",
       "</style>\n",
       "<table border=\"1\" class=\"dataframe\">\n",
       "  <thead>\n",
       "    <tr style=\"text-align: right;\">\n",
       "      <th></th>\n",
       "      <th>title</th>\n",
       "      <th>authors</th>\n",
       "      <th>groups</th>\n",
       "      <th>keywords</th>\n",
       "      <th>topics</th>\n",
       "      <th>abstract</th>\n",
       "    </tr>\n",
       "  </thead>\n",
       "  <tbody>\n",
       "    <tr>\n",
       "      <th>count</th>\n",
       "      <td>398</td>\n",
       "      <td>398</td>\n",
       "      <td>396</td>\n",
       "      <td>398</td>\n",
       "      <td>394</td>\n",
       "      <td>398</td>\n",
       "    </tr>\n",
       "    <tr>\n",
       "      <th>unique</th>\n",
       "      <td>398</td>\n",
       "      <td>391</td>\n",
       "      <td>125</td>\n",
       "      <td>398</td>\n",
       "      <td>350</td>\n",
       "      <td>398</td>\n",
       "    </tr>\n",
       "    <tr>\n",
       "      <th>top</th>\n",
       "      <td>Kernelized Bayesian Transfer Learning</td>\n",
       "      <td>Deguang Kong, Chris Ding and Qihe Pan</td>\n",
       "      <td>Novel Machine Learning Algorithms (NMLA)</td>\n",
       "      <td>cross-domain learning\\ndomain adaptation\\nkern...</td>\n",
       "      <td>GTEP: Social Choice / Voting</td>\n",
       "      <td>Transfer learning considers related but distin...</td>\n",
       "    </tr>\n",
       "    <tr>\n",
       "      <th>freq</th>\n",
       "      <td>1</td>\n",
       "      <td>3</td>\n",
       "      <td>50</td>\n",
       "      <td>1</td>\n",
       "      <td>7</td>\n",
       "      <td>1</td>\n",
       "    </tr>\n",
       "  </tbody>\n",
       "</table>\n",
       "</div>"
      ],
      "text/plain": [
       "                                        title  \\\n",
       "count                                     398   \n",
       "unique                                    398   \n",
       "top     Kernelized Bayesian Transfer Learning   \n",
       "freq                                        1   \n",
       "\n",
       "                                      authors  \\\n",
       "count                                     398   \n",
       "unique                                    391   \n",
       "top     Deguang Kong, Chris Ding and Qihe Pan   \n",
       "freq                                        3   \n",
       "\n",
       "                                          groups  \\\n",
       "count                                        396   \n",
       "unique                                       125   \n",
       "top     Novel Machine Learning Algorithms (NMLA)   \n",
       "freq                                          50   \n",
       "\n",
       "                                                 keywords  \\\n",
       "count                                                 398   \n",
       "unique                                                398   \n",
       "top     cross-domain learning\\ndomain adaptation\\nkern...   \n",
       "freq                                                    1   \n",
       "\n",
       "                              topics  \\\n",
       "count                            394   \n",
       "unique                           350   \n",
       "top     GTEP: Social Choice / Voting   \n",
       "freq                               7   \n",
       "\n",
       "                                                 abstract  \n",
       "count                                                 398  \n",
       "unique                                                398  \n",
       "top     Transfer learning considers related but distin...  \n",
       "freq                                                    1  "
      ]
     },
     "execution_count": 4,
     "metadata": {},
     "output_type": "execute_result"
    }
   ],
   "source": [
    "data_df.describe() # 显示数据统计摘要"
   ]
  }
 ],
 "metadata": {
  "kernelspec": {
   "display_name": "Python 3",
   "language": "python",
   "name": "python3"
  },
  "language_info": {
   "codemirror_mode": {
    "name": "ipython",
    "version": 3
   },
   "file_extension": ".py",
   "mimetype": "text/x-python",
   "name": "python",
   "nbconvert_exporter": "python",
   "pygments_lexer": "ipython3",
   "version": "3.11.5"
  }
 },
 "nbformat": 4,
 "nbformat_minor": 4
}
